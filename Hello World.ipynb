{
 "cells": [
  {
   "cell_type": "markdown",
   "id": "bc1767de",
   "metadata": {},
   "source": [
    "# My Notebook\n",
    "\n",
    "This is my first Jupyter notebook. It's so easy to create!\n",
    "\n",
    "## Steps\n",
    "\n",
    "Here are the steps to create a Jupyter notebook:\n",
    "\n",
    "* Open Jupyter Notebook\n",
    "* Create a new notebook\n",
    "* Type some code\n",
    "* Run the code\n",
    "* Save the notebook\n",
    "\n",
    "Enjoy creating your own notebooks!"
   ]
  },
  {
   "cell_type": "code",
   "execution_count": 2,
   "id": "022260f6",
   "metadata": {},
   "outputs": [
    {
     "name": "stdout",
     "output_type": "stream",
     "text": [
      "Hello World!\n"
     ]
    }
   ],
   "source": [
    "print(\"Hello World!\")"
   ]
  },
  {
   "cell_type": "code",
   "execution_count": 4,
   "id": "d8c00fc4",
   "metadata": {},
   "outputs": [],
   "source": [
    "a=5\n",
    "b=6\n",
    "Out=a+b"
   ]
  },
  {
   "cell_type": "code",
   "execution_count": 5,
   "id": "c7366438",
   "metadata": {},
   "outputs": [
    {
     "data": {
      "text/plain": [
       "11"
      ]
     },
     "execution_count": 5,
     "metadata": {},
     "output_type": "execute_result"
    }
   ],
   "source": [
    "Out"
   ]
  },
  {
   "cell_type": "code",
   "execution_count": 6,
   "id": "933c4f79",
   "metadata": {},
   "outputs": [
    {
     "data": {
      "text/plain": [
       "11"
      ]
     },
     "execution_count": 6,
     "metadata": {},
     "output_type": "execute_result"
    }
   ],
   "source": [
    "a+b"
   ]
  },
  {
   "cell_type": "code",
   "execution_count": null,
   "id": "4e2a9982",
   "metadata": {},
   "outputs": [],
   "source": []
  }
 ],
 "metadata": {
  "kernelspec": {
   "display_name": "Python 3 (ipykernel)",
   "language": "python",
   "name": "python3"
  },
  "language_info": {
   "codemirror_mode": {
    "name": "ipython",
    "version": 3
   },
   "file_extension": ".py",
   "mimetype": "text/x-python",
   "name": "python",
   "nbconvert_exporter": "python",
   "pygments_lexer": "ipython3",
   "version": "3.9.13"
  }
 },
 "nbformat": 4,
 "nbformat_minor": 5
}
